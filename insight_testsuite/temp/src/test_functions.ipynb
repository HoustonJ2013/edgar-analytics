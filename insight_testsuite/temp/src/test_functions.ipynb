{
 "cells": [
  {
   "cell_type": "code",
   "execution_count": 15,
   "metadata": {},
   "outputs": [
    {
     "name": "stdout",
     "output_type": "stream",
     "text": [
      "('101.81.133.jja', datetime.datetime(2017, 6, 30, 0, 0), '1608552.0', '0001047469-17-004337', '-index.htm')\n",
      "('107.23.85.jfd', datetime.datetime(2017, 6, 30, 0, 0), '1027281.0', '0000898430-02-001167', '-index.htm')\n",
      "('107.23.85.jfd', datetime.datetime(2017, 6, 30, 0, 0), '1136894.0', '0000905148-07-003827', '-index.htm')\n",
      "('107.23.85.jfd', datetime.datetime(2017, 6, 30, 0, 0, 1), '841535.0', '0000841535-98-000002', '-index.html')\n",
      "('108.91.91.hbc', datetime.datetime(2017, 6, 30, 0, 0, 1), '1295391.0', '0001209784-17-000052', '.txt')\n",
      "('106.120.173.jie', datetime.datetime(2017, 6, 30, 0, 0, 2), '1470683.0', '0001144204-14-046448', 'v385454_20fa.htm')\n",
      "('107.178.195.aag', datetime.datetime(2017, 6, 30, 0, 0, 2), '1068124.0', '0000350001-15-000854', '-xbrl.zip')\n",
      "('107.23.85.jfd', datetime.datetime(2017, 6, 30, 0, 0, 3), '842814.0', '0000842814-98-000001', '-index.html')\n",
      "('107.178.195.aag', datetime.datetime(2017, 6, 30, 0, 0, 4), '1068124.0', '0000350001-15-000731', '-xbrl.zip')\n",
      "('108.91.91.hbc', datetime.datetime(2017, 6, 30, 0, 0, 4), '1618174.0', '0001140361-17-026711', '.txt')\n"
     ]
    }
   ],
   "source": [
    "## Test for parse line\n",
    "from sessionization import *\n",
    "duration_file=\"../insight_testsuite/tests/test_1/input/inactivity_period.txt\"\n",
    "sess = EDGAR(duration_file=\"../insight_testsuite/tests/test_1/input/inactivity_period.txt\")\n",
    "with open(\"../insight_testsuite/tests/test_1/input/log.csv\") as f:\n",
    "    headers = f.readline().split(\",\")\n",
    "    header_dict = {}\n",
    "    for i, header in enumerate(headers):\n",
    "        header_dict[header] = i\n",
    "    sess.log_header = header_dict\n",
    "    for line in f:\n",
    "        print(sess._parse_line(line))"
   ]
  },
  {
   "cell_type": "code",
   "execution_count": 17,
   "metadata": {},
   "outputs": [
    {
     "data": {
      "text/plain": [
       "2"
      ]
     },
     "execution_count": 17,
     "metadata": {},
     "output_type": "execute_result"
    }
   ],
   "source": [
    "## Read duration\n",
    "duration_file=\"../insight_testsuite/tests/test_1/input/inactivity_period.txt\"\n",
    "sess._read_duration(duration_file)"
   ]
  },
  {
   "cell_type": "code",
   "execution_count": 34,
   "metadata": {},
   "outputs": [
    {
     "data": {
      "text/plain": [
       "86403.0"
      ]
     },
     "execution_count": 34,
     "metadata": {},
     "output_type": "execute_result"
    }
   ],
   "source": [
    "## datetime test\n",
    "t1 = datetime(2017, 6, 29, 0, 0, 0)\n",
    "t2 = datetime(2017, 6, 30, 0, 0, 3)\n",
    "(t2-t1).total_seconds()"
   ]
  },
  {
   "cell_type": "code",
   "execution_count": 47,
   "metadata": {},
   "outputs": [
    {
     "data": {
      "text/plain": [
       "0.001477956771850586"
      ]
     },
     "execution_count": 47,
     "metadata": {},
     "output_type": "execute_result"
    }
   ],
   "source": [
    "## Test suite basic\n",
    "from sessionization import *\n",
    "import timeit\n",
    "duration_file = \"../insight_testsuite/tests/test_1/input/inactivity_period.txt\"\n",
    "input_file = \"../insight_testsuite/tests/test_1/input/log.csv\"\n",
    "output_file = \"../output/test.txt\"\n",
    "sess = EDGAR(logfile=input_file, duration_file=duration_file, outputfile=output_file)\n",
    "run_time([sess.parse_log])"
   ]
  },
  {
   "cell_type": "code",
   "execution_count": 46,
   "metadata": {},
   "outputs": [
    {
     "data": {
      "text/plain": [
       "2.189417839050293"
      ]
     },
     "execution_count": 46,
     "metadata": {},
     "output_type": "execute_result"
    }
   ],
   "source": [
    "## Longer log \n",
    "from sessionization import *\n",
    "import time\n",
    "duration_file = \"../input/inactivity_period.txt\"\n",
    "input_file = \"../input/log_test1.csv\"\n",
    "output_file = \"../output/log_test1.txt\"\n",
    "sess = EDGAR(logfile=input_file, duration_file=duration_file, outputfile=output_file)\n",
    "run_time([sess.parse_log])"
   ]
  },
  {
   "cell_type": "code",
   "execution_count": 58,
   "metadata": {},
   "outputs": [
    {
     "name": "stdout",
     "output_type": "stream",
     "text": [
      "26.868956089\n",
      "162\n"
     ]
    }
   ],
   "source": [
    "## Longer logs \n",
    "from sessionization import *\n",
    "import time\n",
    "duration_file = \"../input/inactivity_period.txt\"\n",
    "input_file = \"../input/log_test4.csv\"\n",
    "output_file = \"../output/log_test4.txt\"\n",
    "sess = EDGAR(logfile=input_file, duration_file=duration_file, outputfile=output_file)\n",
    "sess.duration = 2\n",
    "print(run_time([sess.parse_log]))\n",
    "print(sess.maxdict_size)"
   ]
  },
  {
   "cell_type": "code",
   "execution_count": 59,
   "metadata": {},
   "outputs": [
    {
     "name": "stdout",
     "output_type": "stream",
     "text": [
      "53.0268149376\n",
      "348\n"
     ]
    }
   ],
   "source": [
    "from sessionization import *\n",
    "import time\n",
    "duration_file = \"../input/inactivity_period.txt\"\n",
    "input_file = \"../input/log_test4.csv\"\n",
    "output_file = \"../output/log_test4.txt\"\n",
    "sess = EDGAR(logfile=input_file, duration_file=duration_file, outputfile=output_file)\n",
    "sess.duration = 20\n",
    "print(run_time([sess.parse_log]))\n",
    "print(sess.maxdict_size)"
   ]
  },
  {
   "cell_type": "code",
   "execution_count": 60,
   "metadata": {},
   "outputs": [
    {
     "name": "stdout",
     "output_type": "stream",
     "text": [
      "107.926036119\n",
      "748\n"
     ]
    }
   ],
   "source": [
    "from sessionization import *\n",
    "import time\n",
    "duration_file = \"../input/inactivity_period.txt\"\n",
    "input_file = \"../input/log_test4.csv\"\n",
    "output_file = \"../output/log_test4.txt\"\n",
    "sess = EDGAR(logfile=input_file, duration_file=duration_file, outputfile=output_file)\n",
    "sess.duration = 100\n",
    "print(run_time([sess.parse_log]))\n",
    "print(sess.maxdict_size)"
   ]
  },
  {
   "cell_type": "code",
   "execution_count": 61,
   "metadata": {},
   "outputs": [
    {
     "name": "stdout",
     "output_type": "stream",
     "text": [
      "135.721129894\n",
      "1017\n"
     ]
    }
   ],
   "source": [
    "from sessionization import *\n",
    "import time\n",
    "duration_file = \"../input/inactivity_period.txt\"\n",
    "input_file = \"../input/log_test4.csv\"\n",
    "output_file = \"../output/log_test4.txt\"\n",
    "sess = EDGAR(logfile=input_file, duration_file=duration_file, outputfile=output_file)\n",
    "sess.duration = 200\n",
    "print(run_time([sess.parse_log]))\n",
    "print(sess.maxdict_size)"
   ]
  },
  {
   "cell_type": "code",
   "execution_count": 65,
   "metadata": {},
   "outputs": [
    {
     "name": "stdout",
     "output_type": "stream",
     "text": [
      "OrderedDict([('g', 1), ('e', 1), ('n', 1), ('r', 1), ('a', 1), ('l', 1), ('s', 1), ('c', 1), ('h', 1), ('o', 1)])\n"
     ]
    },
    {
     "data": {
      "text/plain": [
       "'g'"
      ]
     },
     "execution_count": 65,
     "metadata": {},
     "output_type": "execute_result"
    }
   ],
   "source": [
    "from collections import OrderedDict\n",
    "order_dict = OrderedDict()\n",
    "str_test = \"generalgschool\"\n",
    "for item in str_test:\n",
    "    if item in order_dict:\n",
    "        continue\n",
    "    else:\n",
    "        order_dict[item]  = 1\n",
    "print(order_dict)\n",
    "tem = order_dict.keys()\n",
    "tem.pop(0)"
   ]
  },
  {
   "cell_type": "code",
   "execution_count": 92,
   "metadata": {},
   "outputs": [
    {
     "name": "stdout",
     "output_type": "stream",
     "text": [
      "85.4720568657\n",
      "542\n",
      "85898868\n"
     ]
    }
   ],
   "source": [
    "## Longer logs \n",
    "from sessionization_v1 import *\n",
    "import time\n",
    "duration_file = \"../input/inactivity_period.txt\"\n",
    "input_file = \"../input/log_test4.csv\"\n",
    "output_file = \"../output/log_test4_v1.txt\"\n",
    "sess = EDGAR(logfile=input_file, duration_file=duration_file, outputfile=output_file)\n",
    "sess.duration = 50\n",
    "print(run_time([sess.parse_log]))\n",
    "print(sess.maxdict_size)\n",
    "print(sess.num_check)"
   ]
  },
  {
   "cell_type": "code",
   "execution_count": 100,
   "metadata": {},
   "outputs": [
    {
     "name": "stdout",
     "output_type": "stream",
     "text": [
      "8.37322998047\n",
      "542\n",
      "202488\n"
     ]
    }
   ],
   "source": [
    "## Longer logs \n",
    "from sessionization import *\n",
    "import time\n",
    "duration_file = \"../input/inactivity_period.txt\"\n",
    "input_file = \"../input/log_test4.csv\"\n",
    "output_file = \"../output/log_test4_v2.txt\"\n",
    "sess = EDGAR(logfile=input_file, duration_file=duration_file, outputfile=output_file)\n",
    "sess.duration = 50\n",
    "print(run_time([sess.parse_log]))\n",
    "print(sess.maxdict_size)\n",
    "print(sess.num_check)"
   ]
  },
  {
   "cell_type": "code",
   "execution_count": 105,
   "metadata": {},
   "outputs": [
    {
     "name": "stdout",
     "output_type": "stream",
     "text": [
      "46.3979759216\n",
      "477\n",
      "41094949\n"
     ]
    }
   ],
   "source": [
    "from sessionization_v1 import *\n",
    "import time\n",
    "duration_file = \"../input/inactivity_period.txt\"\n",
    "input_file = \"../input/log_test.csv\"\n",
    "output_file = \"../output/log_test_v1.txt\"\n",
    "sess = EDGAR(logfile=input_file, duration_file=duration_file, outputfile=output_file)\n",
    "sess.duration = 50\n",
    "print(run_time([sess.parse_log]))\n",
    "print(sess.maxdict_size)\n",
    "print(sess.num_check)"
   ]
  },
  {
   "cell_type": "code",
   "execution_count": 107,
   "metadata": {},
   "outputs": [
    {
     "name": "stdout",
     "output_type": "stream",
     "text": [
      "4.52295804024\n",
      "477\n",
      "100994\n"
     ]
    }
   ],
   "source": [
    "from sessionization_v2 import *\n",
    "import time\n",
    "duration_file = \"../input/inactivity_period.txt\"\n",
    "input_file = \"../input/log_test.csv\"\n",
    "output_file = \"../output/log_test_v2.txt\"\n",
    "sess = EDGAR(logfile=input_file, duration_file=duration_file, outputfile=output_file)\n",
    "sess.duration = 50\n",
    "print(run_time([sess.parse_log]))\n",
    "print(sess.maxdict_size)\n",
    "print(sess.num_check)"
   ]
  },
  {
   "cell_type": "code",
   "execution_count": 112,
   "metadata": {},
   "outputs": [
    {
     "name": "stdout",
     "output_type": "stream",
     "text": [
      "13.3085920811\n",
      "634\n",
      "9008\n"
     ]
    }
   ],
   "source": [
    "from sessionization import *\n",
    "import time\n",
    "duration_file = \"../input/inactivity_period.txt\"\n",
    "input_file = \"../input/log_large.csv\"\n",
    "output_file = \"../output/log_large.txt\"\n",
    "sess = EDGAR(logfile=input_file, duration_file=duration_file, outputfile=output_file)\n",
    "sess.duration = 50\n",
    "print(run_time([sess.parse_log]))\n",
    "print(sess.maxdict_size)\n",
    "print(sess.num_check)"
   ]
  },
  {
   "cell_type": "code",
   "execution_count": 113,
   "metadata": {},
   "outputs": [
    {
     "name": "stdout",
     "output_type": "stream",
     "text": [
      "639.001953125\n",
      "18010\n",
      "(174112, 23677600, 0.007353447984593033)\n"
     ]
    }
   ],
   "source": [
    "## Test for super large size 2GB logs, expiraton time 2 hours, output maxdict_size, num_checks num of logs\n",
    "from sessionization import *\n",
    "import time\n",
    "duration_file = \"../input/inactivity_period.txt\"\n",
    "input_file = \"../data/log20170630.csv\"\n",
    "output_file = \"../output/log_2gb.txt\"\n",
    "sess = EDGAR(logfile=input_file, duration_file=duration_file, outputfile=output_file)\n",
    "sess.duration = 7200\n",
    "print(run_time([sess.parse_log]))\n",
    "print(sess.maxdict_size)\n",
    "print(sess.num_check, sess.num_log, sess.num_check/float(sess.num_log))"
   ]
  },
  {
   "cell_type": "code",
   "execution_count": null,
   "metadata": {
    "collapsed": true
   },
   "outputs": [],
   "source": []
  }
 ],
 "metadata": {
  "kernelspec": {
   "display_name": "Python 2",
   "language": "python",
   "name": "python2"
  },
  "language_info": {
   "codemirror_mode": {
    "name": "ipython",
    "version": 2
   },
   "file_extension": ".py",
   "mimetype": "text/x-python",
   "name": "python",
   "nbconvert_exporter": "python",
   "pygments_lexer": "ipython2",
   "version": "2.7.13"
  }
 },
 "nbformat": 4,
 "nbformat_minor": 2
}
